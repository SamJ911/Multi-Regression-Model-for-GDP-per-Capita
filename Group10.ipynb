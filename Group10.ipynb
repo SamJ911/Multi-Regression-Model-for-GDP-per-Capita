{
  "nbformat": 4,
  "nbformat_minor": 0,
  "metadata": {
    "colab": {
      "name": "Group10.ipynb",
      "provenance": []
    },
    "kernelspec": {
      "name": "python3",
      "display_name": "Python 3"
    }
  },
  "cells": [
    {
      "cell_type": "code",
      "metadata": {
        "id": "MmvPVDI1PHS1"
      },
      "source": [
        "import numpy as np\n",
        "import matplotlib.pyplot as plt\n",
        "import pandas as pd\n",
        "from sklearn import linear_model\n",
        "from random import random\n",
        "import scipy.stats"
      ],
      "execution_count": 1,
      "outputs": []
    },
    {
      "cell_type": "code",
      "metadata": {
        "id": "HeyTKfhGQlVw",
        "outputId": "36e56745-b019-4d20-b802-23b69696dac8",
        "colab": {
          "base_uri": "https://localhost:8080/",
          "height": 948
        }
      },
      "source": [
        "d=pd.read_csv(\"/content/india-gdp-gross-domestic-product.csv\")\n",
        "d"
      ],
      "execution_count": 3,
      "outputs": [
        {
          "output_type": "execute_result",
          "data": {
            "text/html": [
              "<div>\n",
              "<style scoped>\n",
              "    .dataframe tbody tr th:only-of-type {\n",
              "        vertical-align: middle;\n",
              "    }\n",
              "\n",
              "    .dataframe tbody tr th {\n",
              "        vertical-align: top;\n",
              "    }\n",
              "\n",
              "    .dataframe thead th {\n",
              "        text-align: right;\n",
              "    }\n",
              "</style>\n",
              "<table border=\"1\" class=\"dataframe\">\n",
              "  <thead>\n",
              "    <tr style=\"text-align: right;\">\n",
              "      <th></th>\n",
              "      <th>Year</th>\n",
              "      <th>GDP</th>\n",
              "      <th>Inflation</th>\n",
              "      <th>Unemployment</th>\n",
              "      <th>Population</th>\n",
              "    </tr>\n",
              "  </thead>\n",
              "  <tbody>\n",
              "    <tr>\n",
              "      <th>0</th>\n",
              "      <td>1991</td>\n",
              "      <td>303.0556</td>\n",
              "      <td>13.8702</td>\n",
              "      <td>5.450</td>\n",
              "      <td>891273209</td>\n",
              "    </tr>\n",
              "    <tr>\n",
              "      <th>1</th>\n",
              "      <td>1992</td>\n",
              "      <td>316.9539</td>\n",
              "      <td>11.7878</td>\n",
              "      <td>5.504</td>\n",
              "      <td>909307016</td>\n",
              "    </tr>\n",
              "    <tr>\n",
              "      <th>2</th>\n",
              "      <td>1993</td>\n",
              "      <td>301.1590</td>\n",
              "      <td>6.3269</td>\n",
              "      <td>5.612</td>\n",
              "      <td>927403860</td>\n",
              "    </tr>\n",
              "    <tr>\n",
              "      <th>3</th>\n",
              "      <td>1994</td>\n",
              "      <td>346.1030</td>\n",
              "      <td>10.2479</td>\n",
              "      <td>5.631</td>\n",
              "      <td>945601831</td>\n",
              "    </tr>\n",
              "    <tr>\n",
              "      <th>4</th>\n",
              "      <td>1995</td>\n",
              "      <td>373.7665</td>\n",
              "      <td>10.2249</td>\n",
              "      <td>5.636</td>\n",
              "      <td>963922588</td>\n",
              "    </tr>\n",
              "    <tr>\n",
              "      <th>5</th>\n",
              "      <td>1996</td>\n",
              "      <td>399.9501</td>\n",
              "      <td>8.9772</td>\n",
              "      <td>5.652</td>\n",
              "      <td>982365243</td>\n",
              "    </tr>\n",
              "    <tr>\n",
              "      <th>6</th>\n",
              "      <td>1997</td>\n",
              "      <td>415.4938</td>\n",
              "      <td>7.1643</td>\n",
              "      <td>5.637</td>\n",
              "      <td>1000900030</td>\n",
              "    </tr>\n",
              "    <tr>\n",
              "      <th>7</th>\n",
              "      <td>1998</td>\n",
              "      <td>413.2989</td>\n",
              "      <td>13.2308</td>\n",
              "      <td>5.631</td>\n",
              "      <td>1019483581</td>\n",
              "    </tr>\n",
              "    <tr>\n",
              "      <th>8</th>\n",
              "      <td>1999</td>\n",
              "      <td>441.9988</td>\n",
              "      <td>4.6698</td>\n",
              "      <td>5.685</td>\n",
              "      <td>1038058156</td>\n",
              "    </tr>\n",
              "    <tr>\n",
              "      <th>9</th>\n",
              "      <td>2000</td>\n",
              "      <td>443.3142</td>\n",
              "      <td>4.0094</td>\n",
              "      <td>5.663</td>\n",
              "      <td>1056575549</td>\n",
              "    </tr>\n",
              "    <tr>\n",
              "      <th>10</th>\n",
              "      <td>2001</td>\n",
              "      <td>451.5730</td>\n",
              "      <td>3.7793</td>\n",
              "      <td>5.659</td>\n",
              "      <td>1075000085</td>\n",
              "    </tr>\n",
              "    <tr>\n",
              "      <th>11</th>\n",
              "      <td>2002</td>\n",
              "      <td>470.9868</td>\n",
              "      <td>4.2972</td>\n",
              "      <td>5.719</td>\n",
              "      <td>1093317189</td>\n",
              "    </tr>\n",
              "    <tr>\n",
              "      <th>12</th>\n",
              "      <td>2003</td>\n",
              "      <td>546.7266</td>\n",
              "      <td>3.8059</td>\n",
              "      <td>5.725</td>\n",
              "      <td>1111523144</td>\n",
              "    </tr>\n",
              "    <tr>\n",
              "      <th>13</th>\n",
              "      <td>2004</td>\n",
              "      <td>627.7742</td>\n",
              "      <td>3.7673</td>\n",
              "      <td>5.669</td>\n",
              "      <td>1129623456</td>\n",
              "    </tr>\n",
              "    <tr>\n",
              "      <th>14</th>\n",
              "      <td>2005</td>\n",
              "      <td>714.8610</td>\n",
              "      <td>4.2463</td>\n",
              "      <td>5.598</td>\n",
              "      <td>1147609927</td>\n",
              "    </tr>\n",
              "    <tr>\n",
              "      <th>15</th>\n",
              "      <td>2006</td>\n",
              "      <td>806.7533</td>\n",
              "      <td>5.7965</td>\n",
              "      <td>5.450</td>\n",
              "      <td>1165486291</td>\n",
              "    </tr>\n",
              "    <tr>\n",
              "      <th>16</th>\n",
              "      <td>2007</td>\n",
              "      <td>1028.3348</td>\n",
              "      <td>6.3729</td>\n",
              "      <td>5.323</td>\n",
              "      <td>1183209472</td>\n",
              "    </tr>\n",
              "    <tr>\n",
              "      <th>17</th>\n",
              "      <td>2008</td>\n",
              "      <td>998.5223</td>\n",
              "      <td>8.3493</td>\n",
              "      <td>5.281</td>\n",
              "      <td>1200669765</td>\n",
              "    </tr>\n",
              "    <tr>\n",
              "      <th>18</th>\n",
              "      <td>2009</td>\n",
              "      <td>1101.9608</td>\n",
              "      <td>10.8824</td>\n",
              "      <td>5.566</td>\n",
              "      <td>1217726215</td>\n",
              "    </tr>\n",
              "    <tr>\n",
              "      <th>19</th>\n",
              "      <td>2010</td>\n",
              "      <td>1357.5637</td>\n",
              "      <td>11.9894</td>\n",
              "      <td>5.636</td>\n",
              "      <td>1234281170</td>\n",
              "    </tr>\n",
              "    <tr>\n",
              "      <th>20</th>\n",
              "      <td>2011</td>\n",
              "      <td>1458.1035</td>\n",
              "      <td>8.8584</td>\n",
              "      <td>5.638</td>\n",
              "      <td>1250287943</td>\n",
              "    </tr>\n",
              "    <tr>\n",
              "      <th>21</th>\n",
              "      <td>2012</td>\n",
              "      <td>1443.8795</td>\n",
              "      <td>9.3124</td>\n",
              "      <td>5.652</td>\n",
              "      <td>1265780247</td>\n",
              "    </tr>\n",
              "    <tr>\n",
              "      <th>22</th>\n",
              "      <td>2013</td>\n",
              "      <td>1449.6059</td>\n",
              "      <td>10.9076</td>\n",
              "      <td>5.671</td>\n",
              "      <td>1280842125</td>\n",
              "    </tr>\n",
              "    <tr>\n",
              "      <th>23</th>\n",
              "      <td>2014</td>\n",
              "      <td>1573.8815</td>\n",
              "      <td>6.3532</td>\n",
              "      <td>5.608</td>\n",
              "      <td>1295600772</td>\n",
              "    </tr>\n",
              "    <tr>\n",
              "      <th>24</th>\n",
              "      <td>2015</td>\n",
              "      <td>1605.6054</td>\n",
              "      <td>5.8724</td>\n",
              "      <td>5.565</td>\n",
              "      <td>1310152403</td>\n",
              "    </tr>\n",
              "    <tr>\n",
              "      <th>25</th>\n",
              "      <td>2016</td>\n",
              "      <td>1732.5643</td>\n",
              "      <td>4.9410</td>\n",
              "      <td>5.511</td>\n",
              "      <td>1324517249</td>\n",
              "    </tr>\n",
              "    <tr>\n",
              "      <th>26</th>\n",
              "      <td>2017</td>\n",
              "      <td>1981.6510</td>\n",
              "      <td>2.4909</td>\n",
              "      <td>5.419</td>\n",
              "      <td>1338676785</td>\n",
              "    </tr>\n",
              "    <tr>\n",
              "      <th>27</th>\n",
              "      <td>2018</td>\n",
              "      <td>2005.8630</td>\n",
              "      <td>4.8607</td>\n",
              "      <td>5.330</td>\n",
              "      <td>1352642280</td>\n",
              "    </tr>\n",
              "    <tr>\n",
              "      <th>28</th>\n",
              "      <td>2019</td>\n",
              "      <td>2104.1459</td>\n",
              "      <td>7.6597</td>\n",
              "      <td>5.355</td>\n",
              "      <td>1366417754</td>\n",
              "    </tr>\n",
              "  </tbody>\n",
              "</table>\n",
              "</div>"
            ],
            "text/plain": [
              "    Year        GDP  Inflation  Unemployment  Population\n",
              "0   1991   303.0556    13.8702         5.450   891273209\n",
              "1   1992   316.9539    11.7878         5.504   909307016\n",
              "2   1993   301.1590     6.3269         5.612   927403860\n",
              "3   1994   346.1030    10.2479         5.631   945601831\n",
              "4   1995   373.7665    10.2249         5.636   963922588\n",
              "5   1996   399.9501     8.9772         5.652   982365243\n",
              "6   1997   415.4938     7.1643         5.637  1000900030\n",
              "7   1998   413.2989    13.2308         5.631  1019483581\n",
              "8   1999   441.9988     4.6698         5.685  1038058156\n",
              "9   2000   443.3142     4.0094         5.663  1056575549\n",
              "10  2001   451.5730     3.7793         5.659  1075000085\n",
              "11  2002   470.9868     4.2972         5.719  1093317189\n",
              "12  2003   546.7266     3.8059         5.725  1111523144\n",
              "13  2004   627.7742     3.7673         5.669  1129623456\n",
              "14  2005   714.8610     4.2463         5.598  1147609927\n",
              "15  2006   806.7533     5.7965         5.450  1165486291\n",
              "16  2007  1028.3348     6.3729         5.323  1183209472\n",
              "17  2008   998.5223     8.3493         5.281  1200669765\n",
              "18  2009  1101.9608    10.8824         5.566  1217726215\n",
              "19  2010  1357.5637    11.9894         5.636  1234281170\n",
              "20  2011  1458.1035     8.8584         5.638  1250287943\n",
              "21  2012  1443.8795     9.3124         5.652  1265780247\n",
              "22  2013  1449.6059    10.9076         5.671  1280842125\n",
              "23  2014  1573.8815     6.3532         5.608  1295600772\n",
              "24  2015  1605.6054     5.8724         5.565  1310152403\n",
              "25  2016  1732.5643     4.9410         5.511  1324517249\n",
              "26  2017  1981.6510     2.4909         5.419  1338676785\n",
              "27  2018  2005.8630     4.8607         5.330  1352642280\n",
              "28  2019  2104.1459     7.6597         5.355  1366417754"
            ]
          },
          "metadata": {
            "tags": []
          },
          "execution_count": 3
        }
      ]
    },
    {
      "cell_type": "code",
      "metadata": {
        "id": "7R0pZW6UYRx6",
        "outputId": "f62a2d5c-fa4d-48d1-ef33-5ce5479f4cfc",
        "colab": {
          "base_uri": "https://localhost:8080/"
        }
      },
      "source": [
        "x = d['GDP']\n",
        "y = d['Inflation']\n",
        "scipy.stats.pearsonr(x, y)"
      ],
      "execution_count": 4,
      "outputs": [
        {
          "output_type": "execute_result",
          "data": {
            "text/plain": [
              "(-0.16195268483768757, 0.401278309144242)"
            ]
          },
          "metadata": {
            "tags": []
          },
          "execution_count": 4
        }
      ]
    },
    {
      "cell_type": "code",
      "metadata": {
        "id": "Ri3_sUMYuHcn",
        "outputId": "91c1731e-baa5-4d16-d89b-3844c507beb9",
        "colab": {
          "base_uri": "https://localhost:8080/"
        }
      },
      "source": [
        "a = d['GDP']\n",
        "b = d['Unemployment']\n",
        "scipy.stats.pearsonr(a,b)\n"
      ],
      "execution_count": 5,
      "outputs": [
        {
          "output_type": "execute_result",
          "data": {
            "text/plain": [
              "(-0.45667727573785905, 0.012763749240327228)"
            ]
          },
          "metadata": {
            "tags": []
          },
          "execution_count": 5
        }
      ]
    },
    {
      "cell_type": "code",
      "metadata": {
        "id": "JRwsVE7CMyHi",
        "outputId": "068c3cfc-a83f-4ddd-ee5a-4787677ceae5",
        "colab": {
          "base_uri": "https://localhost:8080/",
          "height": 282
        }
      },
      "source": [
        "s = d['GDP']\n",
        "v = d['Population']\n",
        "scipy.stats.pearsonr(s,v)\n",
        "plt.style.use('ggplot')\n",
        "plt.title('Figure 1')\n",
        "plt.scatter(s,v)\n",
        "plt.show()"
      ],
      "execution_count": 6,
      "outputs": [
        {
          "output_type": "display_data",
          "data": {
            "image/png": "[encoded data removed]",
            "text/plain": [
              "<Figure size 432x288 with 1 Axes>"
            ]
          },
          "metadata": {
            "tags": []
          }
        }
      ]
    },
    {
      "cell_type": "code",
      "metadata": {
        "id": "hNe2nwH-RE5J",
        "outputId": "fbd219bf-40bd-41f4-9cb0-e78d5b708552",
        "colab": {
          "base_uri": "https://localhost:8080/",
          "height": 316
        }
      },
      "source": [
        "%matplotlib inline\n",
        "plt.xlabel('Population (Tril)')\n",
        "plt.ylabel('Gross Domestic Product(US $)')\n",
        "plt.title('Figure 2')\n",
        "plt.plot(d.Population,d.GDP,color='red', label='GDP-Per Capita')"
      ],
      "execution_count": 7,
      "outputs": [
        {
          "output_type": "execute_result",
          "data": {
            "text/plain": [
              "[<matplotlib.lines.Line2D at 0x7fa984023048>]"
            ]
          },
          "metadata": {
            "tags": []
          },
          "execution_count": 7
        },
        {
          "output_type": "display_data",
          "data": {
            "image/png": "[encoded data removed]",
            "text/plain": [
              "<Figure size 432x288 with 1 Axes>"
            ]
          },
          "metadata": {
            "tags": [],
            "needs_background": "light"
          }
        }
      ]
    },
    {
      "cell_type": "code",
      "metadata": {
        "id": "um8bXhVoeB_C",
        "outputId": "8dddc2ef-894a-47a5-c5ae-072d56b60908",
        "colab": {
          "base_uri": "https://localhost:8080/",
          "height": 299
        }
      },
      "source": [
        "%matplotlib inline\n",
        "plt.xlabel('Year')\n",
        "plt.title('Figure 3')\n",
        "plt.plot(d.Year,d.Inflation,color='green',marker='.',label=\"Inflation\")\n",
        "plt.plot(d.Year,d.Unemployment,color='blue',marker='.',Label=\"Unemployement\")\n",
        "plt.legend()\n",
        "plt.show()"
      ],
      "execution_count": 8,
      "outputs": [
        {
          "output_type": "display_data",
          "data": {
            "image/png": "[encoded data removed]",
            "text/plain": [
              "<Figure size 432x288 with 1 Axes>"
            ]
          },
          "metadata": {
            "tags": [],
            "needs_background": "light"
          }
        }
      ]
    },
    {
      "cell_type": "code",
      "metadata": {
        "id": "gwhkplT6qLxt",
        "outputId": "89372f10-ec3a-492b-8c8f-d81e7497377d",
        "colab": {
          "base_uri": "https://localhost:8080/"
        }
      },
      "source": [
        "reg = linear_model.LinearRegression()\n",
        "reg.fit(d[['Population','Unemployment','Inflation']],d['GDP'])"
      ],
      "execution_count": 9,
      "outputs": [
        {
          "output_type": "execute_result",
          "data": {
            "text/plain": [
              "LinearRegression(copy_X=True, fit_intercept=True, n_jobs=None, normalize=False)"
            ]
          },
          "metadata": {
            "tags": []
          },
          "execution_count": 9
        }
      ]
    },
    {
      "cell_type": "code",
      "metadata": {
        "id": "nipV4t8qqZNx",
        "outputId": "4f837df6-5483-4794-b8fe-72f6318a4db7",
        "colab": {
          "base_uri": "https://localhost:8080/"
        }
      },
      "source": [
        "reg.predict([[1366417754,5.355, 7.6597]])"
      ],
      "execution_count": 11,
      "outputs": [
        {
          "output_type": "execute_result",
          "data": {
            "text/plain": [
              "array([1935.80728961])"
            ]
          },
          "metadata": {
            "tags": []
          },
          "execution_count": 11
        }
      ]
    },
    {
      "cell_type": "code",
      "metadata": {
        "id": "T4tBDkN1qqK6",
        "outputId": "c1cd4faf-39b9-478d-82fb-006687ecb4f7",
        "colab": {
          "base_uri": "https://localhost:8080/"
        }
      },
      "source": [
        "reg.coef_"
      ],
      "execution_count": 12,
      "outputs": [
        {
          "output_type": "execute_result",
          "data": {
            "text/plain": [
              "array([ 3.85003884e-06, -5.73716239e+02,  2.36333427e+01])"
            ]
          },
          "metadata": {
            "tags": []
          },
          "execution_count": 12
        }
      ]
    },
    {
      "cell_type": "code",
      "metadata": {
        "id": "_wx3yCWsDzLm",
        "outputId": "ec4ae184-fbd8-4a88-b7b4-5a9a0cb15be2",
        "colab": {
          "base_uri": "https://localhost:8080/"
        }
      },
      "source": [
        "reg.intercept_"
      ],
      "execution_count": 13,
      "outputs": [
        {
          "output_type": "execute_result",
          "data": {
            "text/plain": [
              "-433.72798567997836"
            ]
          },
          "metadata": {
            "tags": []
          },
          "execution_count": 13
        }
      ]
    }
  ]
}